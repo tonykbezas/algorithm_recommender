{
  "nbformat": 4,
  "nbformat_minor": 0,
  "metadata": {
    "colab": {
      "provenance": []
    },
    "kernelspec": {
      "name": "python3",
      "display_name": "Python 3"
    },
    "language_info": {
      "name": "python"
    }
  },
  "cells": [
    {
      "cell_type": "code",
      "execution_count": null,
      "metadata": {
        "colab": {
          "base_uri": "https://localhost:8080/"
        },
        "id": "1Aqv0aIWPmHZ",
        "outputId": "678b793e-4a82-4b57-9631-86dc1670446a"
      },
      "outputs": [
        {
          "output_type": "stream",
          "name": "stdout",
          "text": [
            "MSE: 0.15773958333333332\n",
            "R^2: -0.34082701835063833\n"
          ]
        }
      ],
      "source": [
        "from sklearn.neighbors import KNeighborsRegressor\n",
        "from sklearn.metrics import mean_squared_error, r2_score\n",
        "import pandas as pd\n",
        "from sklearn.model_selection import train_test_split\n",
        "import numpy as np\n",
        "\n",
        "ratings_data = pd.read_csv('tourism_rating.csv')\n",
        "\n",
        "min_rating = min(ratings_data['Place_Ratings'])\n",
        "\n",
        "max_rating = max(ratings_data['Place_Ratings'])\n",
        "\n",
        "# Se divide el conjunto de datos en entrenamiento y prueba\n",
        "train_data, test_data = train_test_split(ratings_data, test_size=0.2)\n",
        "X_train = train_data[[\"User_Id\", \"Place_Id\"]].values\n",
        "y_train = train_data[\"Place_Ratings\"].apply(lambda x: (x - min_rating) / (max_rating - min_rating)).values\n",
        "\n",
        "X_test = test_data[[\"User_Id\", \"Place_Id\"]].values\n",
        "y_test = test_data[\"Place_Ratings\"].apply(lambda x: (x - min_rating) / (max_rating - min_rating)).values\n",
        "\n",
        "# Se crea un modelo KNN con los datos de entrenamiento\n",
        "model = KNeighborsRegressor(n_neighbors=3)\n",
        "model.fit(X_train, y_train)\n",
        "\n",
        "# Se hacen predicciones con el modelo\n",
        "y_pred = model.predict(X_test)\n",
        "\n",
        "# Se evalúa el modelo con las métricas de MSE y R^2\n",
        "mse = mean_squared_error(y_test, y_pred)\n",
        "r2 = r2_score(y_test, y_pred)\n",
        "\n",
        "print(\"MSE:\", mse)\n",
        "print(\"R^2:\", r2)\n"
      ]
    },
    {
      "cell_type": "code",
      "source": [
        "y_pred_cm = np.round(y_pred *4 +1)\n",
        "y_test_cm = np.round(y_test * 4 +1)"
      ],
      "metadata": {
        "id": "zSRmyp3rQibR"
      },
      "execution_count": null,
      "outputs": []
    },
    {
      "cell_type": "code",
      "source": [
        "#Matriz de confusión\n",
        "from sklearn.metrics import confusion_matrix\n",
        "cm = confusion_matrix(y_test_cm, y_pred_cm)\n",
        "print(cm)"
      ],
      "metadata": {
        "colab": {
          "base_uri": "https://localhost:8080/"
        },
        "id": "BC2FDSbBQzLQ",
        "outputId": "68424072-1855-4c1f-a468-fcac4da2f198"
      },
      "execution_count": null,
      "outputs": [
        {
          "output_type": "stream",
          "name": "stdout",
          "text": [
            "[[ 12  80 163  88   5]\n",
            " [ 16  87 171 113  14]\n",
            " [  6  83 197 138  14]\n",
            " [  7 105 184 119  10]\n",
            " [ 10  98 163 108   9]]\n"
          ]
        }
      ]
    },
    {
      "cell_type": "code",
      "source": [
        "from sklearn.neighbors import KNeighborsRegressor\n",
        "from sklearn.metrics import mean_squared_error\n",
        "\n",
        "k_values = list(range(1, 11))\n",
        "mse_scores = []\n",
        "\n",
        "for k in k_values:\n",
        "    knn = KNeighborsRegressor(n_neighbors=k)\n",
        "    knn.fit(X_train, y_train)\n",
        "    y_pred = knn.predict(X_test)\n",
        "    mse = mean_squared_error(y_test, y_pred)\n",
        "    mse_scores.append(mse)\n",
        "\n",
        "# Imprimir los resultados de cada iteración\n",
        "print(\"Iter\\tK value\\tMSE\")\n",
        "for i, mse in enumerate(mse_scores):\n",
        "    #print(\"k = {}, MSE = {}\".format(k_values[i], mse))\n",
        "    print(f\"{i+1}\\t{k_values[i]:.4f}\\t{mse:.4f}\")"
      ],
      "metadata": {
        "colab": {
          "base_uri": "https://localhost:8080/"
        },
        "id": "g3G6ecwjRknM",
        "outputId": "0276d0fa-2a21-41f8-9c22-5d81d04c31de"
      },
      "execution_count": null,
      "outputs": [
        {
          "output_type": "stream",
          "name": "stdout",
          "text": [
            "Iter\tK value\tMSE\n",
            "1\t1.0000\t0.2415\n",
            "2\t2.0000\t0.1802\n",
            "3\t3.0000\t0.1577\n",
            "4\t4.0000\t0.1477\n",
            "5\t5.0000\t0.1411\n",
            "6\t6.0000\t0.1376\n",
            "7\t7.0000\t0.1332\n",
            "8\t8.0000\t0.1320\n",
            "9\t9.0000\t0.1306\n",
            "10\t10.0000\t0.1292\n"
          ]
        }
      ]
    },
    {
      "cell_type": "code",
      "source": [
        "user_id = 10\n",
        "place_id = 344\n",
        "prediction = model.predict(np.array([[user_id, place_id]]))\n",
        "print(prediction[0] * (max_rating - min_rating) + min_rating)"
      ],
      "metadata": {
        "colab": {
          "base_uri": "https://localhost:8080/"
        },
        "id": "wq4VasxqSK3L",
        "outputId": "9889f8f0-45ac-4c9b-d57b-375555763154"
      },
      "execution_count": null,
      "outputs": [
        {
          "output_type": "stream",
          "name": "stdout",
          "text": [
            "3.0\n"
          ]
        }
      ]
    },
    {
      "cell_type": "code",
      "source": [
        "from sklearn.metrics import confusion_matrix\n",
        "import matplotlib.pyplot as plt\n",
        "import numpy as np\n",
        "\n",
        "# Supongamos que y_test e y_pred tienen los mismos valores que mencionaste anteriormente\n",
        "\n",
        "# Generar la matriz de confusión\n",
        "conf_matrix = cm\n",
        "\n",
        "# Configurar el gráfico\n",
        "fig, ax = plt.subplots()\n",
        "im = ax.imshow(conf_matrix, cmap='Blues')\n",
        "\n",
        "# Etiquetas de los ejes\n",
        "ax.set_xticks(np.arange(5))\n",
        "ax.set_yticks(np.arange(5))\n",
        "ax.set_xticklabels(['1', '2', '3', '4', '5'])\n",
        "ax.set_yticklabels(['1', '2', '3', '4', '5'])\n",
        "\n",
        "# Rotar las etiquetas de los ejes\n",
        "plt.setp(ax.get_xticklabels(), rotation=45, ha=\"right\",\n",
        "         rotation_mode=\"anchor\")\n",
        "\n",
        "# Anotaciones en cada celda\n",
        "for i in range(5):\n",
        "    for j in range(5):\n",
        "        text = ax.text(j, i, conf_matrix[i, j],\n",
        "                       ha=\"center\", va=\"center\", color=\"gray\")\n",
        "\n",
        "# Título y etiquetas\n",
        "ax.set_title(\"Matriz de Confusión\")\n",
        "ax.set_xlabel(\"Etiqueta Predicha\")\n",
        "ax.set_ylabel(\"Etiqueta Real\")\n",
        "\n",
        "# Mostrar el gráfico\n",
        "plt.show()"
      ],
      "metadata": {
        "colab": {
          "base_uri": "https://localhost:8080/",
          "height": 474
        },
        "id": "Tdk9Ui-3XFLI",
        "outputId": "2e952c3d-e87f-4a63-90d6-a4c8039c44ac"
      },
      "execution_count": null,
      "outputs": [
        {
          "output_type": "display_data",
          "data": {
            "text/plain": [
              "<Figure size 640x480 with 1 Axes>"
            ],
            "image/png": "[encoded data removed]"
          },
          "metadata": {}
        }
      ]
    },
    {
      "cell_type": "code",
      "source": [],
      "metadata": {
        "id": "x8G_2VSBYhr0"
      },
      "execution_count": null,
      "outputs": []
    }
  ]
}